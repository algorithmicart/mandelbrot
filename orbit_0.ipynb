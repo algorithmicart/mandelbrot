{
 "cells": [
  {
   "cell_type": "code",
   "execution_count": 1,
   "metadata": {
    "colab": {},
    "colab_type": "code",
    "id": "4ehFb3ZKy0I_"
   },
   "outputs": [],
   "source": [
    "import math\n",
    "import matplotlib.pyplot as plt\n",
    "plt.style.use('seaborn')"
   ]
  },
  {
   "cell_type": "code",
   "execution_count": 2,
   "metadata": {
    "colab": {},
    "colab_type": "code",
    "id": "BMfeeTPay64h"
   },
   "outputs": [],
   "source": [
    "# simple experiment - doubling\n",
    "\n",
    "x = 2\n",
    "\n",
    "# add initial value to list\n",
    "values = [x]\n",
    "\n",
    "for i in range(10):\n",
    "    #x = x*x\n",
    "    #x = math.sqrt(x)\n",
    "    x = x / 2\n",
    "\n",
    "    values.append(x)\n",
    "    pass"
   ]
  },
  {
   "cell_type": "code",
   "execution_count": 3,
   "metadata": {
    "colab": {
     "base_uri": "https://localhost:8080/",
     "height": 204
    },
    "colab_type": "code",
    "executionInfo": {
     "elapsed": 381,
     "status": "ok",
     "timestamp": 1560027649741,
     "user": {
      "displayName": "Tariq Rashid",
      "photoUrl": "https://lh6.googleusercontent.com/-cG8Az47m-LQ/AAAAAAAAAAI/AAAAAAAASGQ/V7KlUFOCaOY/s64/photo.jpg",
      "userId": "18144324654280384047"
     },
     "user_tz": -60
    },
    "id": "CP2c7q00zv23",
    "outputId": "0c80a980-463a-4d8f-d3fd-dead2424bcfe"
   },
   "outputs": [
    {
     "data": {
      "text/plain": [
       "[2,\n",
       " 1.0,\n",
       " 0.5,\n",
       " 0.25,\n",
       " 0.125,\n",
       " 0.0625,\n",
       " 0.03125,\n",
       " 0.015625,\n",
       " 0.0078125,\n",
       " 0.00390625,\n",
       " 0.001953125]"
      ]
     },
     "execution_count": 3,
     "metadata": {},
     "output_type": "execute_result"
    }
   ],
   "source": [
    "# show values \n",
    "\n",
    "values"
   ]
  },
  {
   "cell_type": "code",
   "execution_count": 4,
   "metadata": {
    "colab": {},
    "colab_type": "code",
    "id": "Y9lHZOYDzwyQ"
   },
   "outputs": [],
   "source": [
    "# plot values"
   ]
  },
  {
   "cell_type": "code",
   "execution_count": 5,
   "metadata": {
    "colab": {
     "base_uri": "https://localhost:8080/",
     "height": 391
    },
    "colab_type": "code",
    "executionInfo": {
     "elapsed": 629,
     "status": "ok",
     "timestamp": 1560027650334,
     "user": {
      "displayName": "Tariq Rashid",
      "photoUrl": "https://lh6.googleusercontent.com/-cG8Az47m-LQ/AAAAAAAAAAI/AAAAAAAASGQ/V7KlUFOCaOY/s64/photo.jpg",
      "userId": "18144324654280384047"
     },
     "user_tz": -60
    },
    "id": "-TTnfRXZ0B2-",
    "outputId": "f4211085-5022-429e-f03e-b7c3b7a51fee"
   },
   "outputs": [
    {
     "data": {
      "text/plain": [
       "[<matplotlib.lines.Line2D at 0x121120160>]"
      ]
     },
     "execution_count": 5,
     "metadata": {},
     "output_type": "execute_result"
    },
    {
     "data": {
      "image/png": "[encoded data removed]",
      "text/plain": [
       "<Figure size 720x432 with 1 Axes>"
      ]
     },
     "metadata": {
      "needs_background": "light"
     },
     "output_type": "display_data"
    }
   ],
   "source": [
    "plt.figure(figsize=(10,6))\n",
    "\n",
    "plt.plot(values, '-ok')"
   ]
  },
  {
   "cell_type": "code",
   "execution_count": 0,
   "metadata": {
    "colab": {},
    "colab_type": "code",
    "id": "AWp8uKWR1DUx"
   },
   "outputs": [],
   "source": []
  }
 ],
 "metadata": {
  "colab": {
   "collapsed_sections": [],
   "name": "mandel_0.ipynb",
   "provenance": [],
   "version": "0.3.2"
  },
  "kernelspec": {
   "display_name": "Python 3",
   "language": "python",
   "name": "python3"
  },
  "language_info": {
   "codemirror_mode": {
    "name": "ipython",
    "version": 3
   },
   "file_extension": ".py",
   "mimetype": "text/x-python",
   "name": "python",
   "nbconvert_exporter": "python",
   "pygments_lexer": "ipython3",
   "version": "3.7.3"
  }
 },
 "nbformat": 4,
 "nbformat_minor": 1
}
