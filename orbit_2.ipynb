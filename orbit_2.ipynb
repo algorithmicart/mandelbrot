{
 "cells": [
  {
   "cell_type": "code",
   "execution_count": 1,
   "metadata": {
    "colab": {},
    "colab_type": "code",
    "id": "4ehFb3ZKy0I_"
   },
   "outputs": [],
   "source": [
    "import numpy\n",
    "import matplotlib.pyplot as plt\n",
    "plt.style.use('seaborn')\n",
    "\n",
    "from ipywidgets import interact"
   ]
  },
  {
   "cell_type": "code",
   "execution_count": 2,
   "metadata": {
    "colab": {},
    "colab_type": "code",
    "id": "BMfeeTPay64h"
   },
   "outputs": [],
   "source": [
    "def do_work(a,b):\n",
    "\n",
    "    # simple experiment - doubling\n",
    "\n",
    "    z = 0.0 + 0.0j\n",
    "    c = a + b*1j\n",
    "\n",
    "    # add initial value to list\n",
    "    values = [z]\n",
    "\n",
    "    for i in range(100):\n",
    "        z = z*z + c\n",
    "        #z = numpy.sqrt(z)\n",
    "        #z = z / 2\n",
    "\n",
    "        values.append(z)\n",
    "        pass\n",
    "\n",
    "    values = numpy.array(values)\n",
    "\n",
    "    plt.figure(figsize=(10,10))\n",
    "    s = 5\n",
    "    plt.xlim(-s,s)\n",
    "    plt.ylim(-s,s)\n",
    "    plt.plot(values.real, values.imag, '-ok', alpha=0.2)\n",
    "    plt.show()\n",
    "\n",
    "    pass"
   ]
  },
  {
   "cell_type": "code",
   "execution_count": 5,
   "metadata": {
    "cellView": "both",
    "colab": {
     "base_uri": "https://localhost:8080/",
     "height": 596
    },
    "colab_type": "code",
    "executionInfo": {
     "elapsed": 776,
     "status": "ok",
     "timestamp": 1560029876652,
     "user": {
      "displayName": "Tariq Rashid",
      "photoUrl": "https://lh6.googleusercontent.com/-cG8Az47m-LQ/AAAAAAAAAAI/AAAAAAAASGQ/V7KlUFOCaOY/s64/photo.jpg",
      "userId": "18144324654280384047"
     },
     "user_tz": -60
    },
    "id": "Y9lHZOYDzwyQ",
    "outputId": "08eeed54-b6f8-4ea2-b0c0-37b992cd7988"
   },
   "outputs": [
    {
     "data": {
      "application/vnd.jupyter.widget-view+json": {
       "model_id": "6811891f8dab46d28feec1888c0bc72f",
       "version_major": 2,
       "version_minor": 0
      },
      "text/plain": [
       "interactive(children=(FloatSlider(value=0.0, description='a', max=1.0, min=-1.0), FloatSlider(value=0.0, descr…"
      ]
     },
     "metadata": {},
     "output_type": "display_data"
    },
    {
     "data": {
      "text/plain": [
       "<function __main__.do_work(a, b)>"
      ]
     },
     "execution_count": 5,
     "metadata": {},
     "output_type": "execute_result"
    }
   ],
   "source": [
    "# interactive plot\n",
    "\n",
    "interact(do_work, a=(-1.0, 1.0), b=(-1.0, 1.0), continuous_update=True)\n"
   ]
  },
  {
   "cell_type": "code",
   "execution_count": null,
   "metadata": {
    "colab": {},
    "colab_type": "code",
    "id": "AWp8uKWR1DUx"
   },
   "outputs": [],
   "source": []
  },
  {
   "cell_type": "code",
   "execution_count": null,
   "metadata": {},
   "outputs": [],
   "source": []
  }
 ],
 "metadata": {
  "colab": {
   "collapsed_sections": [],
   "name": "mandel_2.ipynb",
   "provenance": [],
   "version": "0.3.2"
  },
  "kernelspec": {
   "display_name": "Python 3",
   "language": "python",
   "name": "python3"
  },
  "language_info": {
   "codemirror_mode": {
    "name": "ipython",
    "version": 3
   },
   "file_extension": ".py",
   "mimetype": "text/x-python",
   "name": "python",
   "nbconvert_exporter": "python",
   "pygments_lexer": "ipython3",
   "version": "3.7.3"
  }
 },
 "nbformat": 4,
 "nbformat_minor": 1
}
